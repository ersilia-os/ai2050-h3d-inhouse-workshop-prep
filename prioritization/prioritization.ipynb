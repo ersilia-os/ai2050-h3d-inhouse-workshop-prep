{
 "cells": [
  {
   "cell_type": "code",
   "execution_count": 1,
   "id": "f06edced",
   "metadata": {},
   "outputs": [],
   "source": [
    "import pandas as pd\n",
    "import random\n",
    "import os"
   ]
  },
  {
   "cell_type": "code",
   "execution_count": 2,
   "id": "4437b520",
   "metadata": {},
   "outputs": [],
   "source": [
    "# Projections\n",
    "antiinfective_eos2db3 = (\"eos2db3\", pd.read_csv(\"../data/libraries/antiinfective_eos2db3.csv\"))\n",
    "\n",
    "# Saureus\n",
    "antiinfective_eos2m0f = (\"eos2m0f\", pd.read_csv(\"../data/libraries/antiinfective_eos2m0f.csv\"))\n",
    "\n",
    "# Abaumannii\n",
    "antiinfective_eos5dti = (\"eos5dti\", pd.read_csv(\"../data/libraries/antiinfective_eos5dti.csv\"))\n",
    "\n",
    "# ADMET\n",
    "antiinfective_eos7m30 = (\"eos7m30\", pd.read_csv(\"../data/libraries/antiinfective_eos7m30.csv\"))\n",
    "\n",
    "# Saureus external\n",
    "antiinfective_eos18ie = (\"eos18ie\", pd.read_csv(\"../data/libraries/antiinfective_eos18ie.csv\"))\n",
    "\n",
    "# Kpneumoniae\n",
    "antiinfective_eos37l0 = (\"eos37l0\", pd.read_csv(\"../data/libraries/antiinfective_eos37l0.csv\"))\n",
    "\n",
    "# Cytotoxicity\n",
    "antiinfective_eos42ez = (\"eos42ez\", pd.read_csv(\"../data/libraries/antiinfective_eos42ez.csv\"))\n",
    "\n",
    "# Abaumannii external\n",
    "antiinfective_eos3804 = (\"eos3804\", pd.read_csv(\"../data/libraries/antiinfective_eos3804.csv\"))"
   ]
  },
  {
   "cell_type": "code",
   "execution_count": 3,
   "id": "485ad442",
   "metadata": {},
   "outputs": [],
   "source": [
    "# Get the compounds\n",
    "df = antiinfective_eos18ie[1][['key', 'input']]\n",
    "\n",
    "# Create a list of df\n",
    "all_dfs = [\n",
    "    antiinfective_eos18ie,\n",
    "    antiinfective_eos2db3,\n",
    "    antiinfective_eos2m0f,\n",
    "    antiinfective_eos37l0,\n",
    "    antiinfective_eos7m30,\n",
    "    antiinfective_eos42ez,\n",
    "    antiinfective_eos3804,\n",
    "    antiinfective_eos5dti,\n",
    "]\n",
    "\n",
    "# Merge everything\n",
    "for model_id, ds in all_dfs:\n",
    "    columns = [c for c in list(ds.columns) if c not in [\"key\", \"input\"]]\n",
    "    ds = ds[columns]\n",
    "    rename = dict((k, model_id + \"_\" + k) for k in columns)\n",
    "    ds = ds.rename(columns=rename)\n",
    "    df = pd.concat([df, ds], axis=1)"
   ]
  },
  {
   "cell_type": "code",
   "execution_count": 4,
   "id": "0309fca9",
   "metadata": {},
   "outputs": [],
   "source": [
    "### KPNEUMONIAE ###"
   ]
  },
  {
   "cell_type": "code",
   "execution_count": 5,
   "id": "735ee48d",
   "metadata": {},
   "outputs": [
    {
     "data": {
      "image/png": "[encoded data removed]",
      "text/plain": [
       "<Figure size 640x480 with 1 Axes>"
      ]
     },
     "metadata": {},
     "output_type": "display_data"
    }
   ],
   "source": [
    "import matplotlib.pyplot as plt\n",
    "plt.hist(df[\"eos37l0_0_consensus_score\"], bins=[i for i in range(-20, 25, 1)], ec='k')\n",
    "plt.show()"
   ]
  },
  {
   "cell_type": "code",
   "execution_count": 6,
   "id": "398a95c7",
   "metadata": {},
   "outputs": [],
   "source": [
    "# QED"
   ]
  },
  {
   "cell_type": "code",
   "execution_count": 7,
   "id": "546a964e",
   "metadata": {},
   "outputs": [
    {
     "name": "stdout",
     "output_type": "stream",
     "text": [
      "53\n"
     ]
    }
   ],
   "source": [
    "a_kp = set(df[(df[\"eos37l0_0_consensus_score\"] > 10) & \n",
    "              (df[\"eos7m30_qed\"] > 0.7)]['input'])\n",
    "print(len(a_kp))"
   ]
  },
  {
   "cell_type": "code",
   "execution_count": 8,
   "id": "73448f19",
   "metadata": {},
   "outputs": [
    {
     "name": "stdout",
     "output_type": "stream",
     "text": [
      "58\n"
     ]
    }
   ],
   "source": [
    "b_kp = set(df[(df[\"eos37l0_0_consensus_score\"] > 10) & \n",
    "              (df[\"eos7m30_qed\"] < 0.25)]['input'])\n",
    "print(len(b_kp))"
   ]
  },
  {
   "cell_type": "code",
   "execution_count": 9,
   "id": "3ad497fd",
   "metadata": {},
   "outputs": [
    {
     "name": "stdout",
     "output_type": "stream",
     "text": [
      "72\n"
     ]
    }
   ],
   "source": [
    "c_kp = set(df[(df[\"eos37l0_0_consensus_score\"] < 10) & \n",
    "              (df[\"eos7m30_qed\"] > 0.93)]['input'])\n",
    "print(len(c_kp))"
   ]
  },
  {
   "cell_type": "code",
   "execution_count": 10,
   "id": "e6e8de8b",
   "metadata": {},
   "outputs": [],
   "source": [
    "# CYTOTOXICITY"
   ]
  },
  {
   "cell_type": "code",
   "execution_count": 11,
   "id": "6ae6ba69",
   "metadata": {},
   "outputs": [
    {
     "name": "stdout",
     "output_type": "stream",
     "text": [
      "112\n"
     ]
    }
   ],
   "source": [
    "d_kp = set(df[(df[\"eos37l0_0_consensus_score\"] > 10) & \n",
    "              (df['eos42ez_cytotoxicity_hepg2'] < 0.1) & \n",
    "              (df['eos42ez_cytotoxicity_hskmc'] < 0.1) & \n",
    "              (df['eos42ez_cytotoxicity_imr90'] < 0.1)]['input'])\n",
    "print(len(d_kp))"
   ]
  },
  {
   "cell_type": "code",
   "execution_count": 12,
   "id": "147b699c",
   "metadata": {},
   "outputs": [
    {
     "name": "stdout",
     "output_type": "stream",
     "text": [
      "36\n"
     ]
    }
   ],
   "source": [
    "e_kp = set(df[(df[\"eos37l0_0_consensus_score\"] > 10) & \n",
    "              (df['eos42ez_cytotoxicity_hepg2'] > 0.4) & \n",
    "              (df['eos42ez_cytotoxicity_hskmc'] > 0.4) & \n",
    "              (df['eos42ez_cytotoxicity_imr90'] > 0.4)]['input'])\n",
    "print(len(e_kp))"
   ]
  },
  {
   "cell_type": "code",
   "execution_count": 13,
   "id": "7d5b6fcc",
   "metadata": {},
   "outputs": [
    {
     "name": "stdout",
     "output_type": "stream",
     "text": [
      "40\n"
     ]
    }
   ],
   "source": [
    "f_kp = set(df[(df[\"eos37l0_0_consensus_score\"] < 10) & \n",
    "              (df['eos42ez_cytotoxicity_hepg2'] < 0.03) & \n",
    "              (df['eos42ez_cytotoxicity_hskmc'] < 0.03) & \n",
    "              (df['eos42ez_cytotoxicity_imr90'] < 0.03)]['input'])\n",
    "print(len(f_kp))"
   ]
  },
  {
   "cell_type": "code",
   "execution_count": 15,
   "id": "9000222a",
   "metadata": {},
   "outputs": [],
   "source": [
    "# HERG"
   ]
  },
  {
   "cell_type": "code",
   "execution_count": 16,
   "id": "ca09a19b",
   "metadata": {},
   "outputs": [
    {
     "name": "stdout",
     "output_type": "stream",
     "text": [
      "82\n"
     ]
    }
   ],
   "source": [
    "g_kp = set(df[(df[\"eos37l0_0_consensus_score\"] > 10) & \n",
    "              (df[\"eos7m30_herg\"] > 0.9)]['input'])\n",
    "print(len(g_kp))"
   ]
  },
  {
   "cell_type": "code",
   "execution_count": 17,
   "id": "fd596e80",
   "metadata": {},
   "outputs": [
    {
     "name": "stdout",
     "output_type": "stream",
     "text": [
      "64\n"
     ]
    }
   ],
   "source": [
    "h_kp = set(df[(df[\"eos37l0_0_consensus_score\"] < 10) & \n",
    "              (df[\"eos7m30_herg\"] < 0.03)]['input'])\n",
    "print(len(h_kp))"
   ]
  },
  {
   "cell_type": "code",
   "execution_count": 18,
   "id": "4765942b",
   "metadata": {},
   "outputs": [
    {
     "name": "stdout",
     "output_type": "stream",
     "text": [
      "66\n"
     ]
    }
   ],
   "source": [
    "i_kp = set(df[(df[\"eos37l0_0_consensus_score\"] > 10) & \n",
    "              (df[\"eos7m30_herg\"] < 0.3)]['input'])\n",
    "print(len(i_kp))"
   ]
  },
  {
   "cell_type": "code",
   "execution_count": null,
   "id": "8b4cbb7e",
   "metadata": {},
   "outputs": [],
   "source": [
    "# BIOAVAILABILITY"
   ]
  },
  {
   "cell_type": "code",
   "execution_count": 19,
   "id": "67c943bb",
   "metadata": {},
   "outputs": [
    {
     "name": "stdout",
     "output_type": "stream",
     "text": [
      "150\n"
     ]
    }
   ],
   "source": [
    "j_kp = set(df[(df[\"eos37l0_0_consensus_score\"] > 10) & \n",
    "              (df[\"eos7m30_bioavailability_ma\"] > 0.9)]['input'])\n",
    "print(len(j_kp))"
   ]
  },
  {
   "cell_type": "code",
   "execution_count": 20,
   "id": "59ac3406",
   "metadata": {},
   "outputs": [
    {
     "name": "stdout",
     "output_type": "stream",
     "text": [
      "29\n"
     ]
    }
   ],
   "source": [
    "k_kp = set(df[(df[\"eos37l0_0_consensus_score\"] > 10) & \n",
    "              (df[\"eos7m30_bioavailability_ma\"] < 0.5)]['input'])\n",
    "print(len(k_kp))"
   ]
  },
  {
   "cell_type": "code",
   "execution_count": 21,
   "id": "9e1202dd",
   "metadata": {},
   "outputs": [
    {
     "name": "stdout",
     "output_type": "stream",
     "text": [
      "62\n"
     ]
    }
   ],
   "source": [
    "l_kp = set(df[(df[\"eos37l0_0_consensus_score\"] < 10) & \n",
    "              (df[\"eos7m30_bioavailability_ma\"] > 0.985)]['input'])\n",
    "print(len(l_kp))"
   ]
  },
  {
   "cell_type": "code",
   "execution_count": 22,
   "id": "4bf8b83a",
   "metadata": {},
   "outputs": [],
   "source": [
    "# VEITH"
   ]
  },
  {
   "cell_type": "code",
   "execution_count": 23,
   "id": "ed82a2ec",
   "metadata": {},
   "outputs": [
    {
     "name": "stdout",
     "output_type": "stream",
     "text": [
      "56\n"
     ]
    }
   ],
   "source": [
    "m_kp = set(df[(df[\"eos37l0_0_consensus_score\"] > 15) & \n",
    "              (df[\"eos7m30_cyp1a2_veith\"] < 0.05)]['input'])\n",
    "print(len(m_kp))"
   ]
  },
  {
   "cell_type": "code",
   "execution_count": 24,
   "id": "c218ab28",
   "metadata": {},
   "outputs": [
    {
     "name": "stdout",
     "output_type": "stream",
     "text": [
      "58\n"
     ]
    }
   ],
   "source": [
    "n_kp = set(df[(df[\"eos37l0_0_consensus_score\"] > 10) & \n",
    "              (df[\"eos7m30_cyp1a2_veith\"] > 0.7)]['input'])\n",
    "print(len(n_kp))"
   ]
  },
  {
   "cell_type": "code",
   "execution_count": 25,
   "id": "54441f40",
   "metadata": {},
   "outputs": [
    {
     "name": "stdout",
     "output_type": "stream",
     "text": [
      "61\n"
     ]
    }
   ],
   "source": [
    "o_kp = set(df[(df[\"eos37l0_0_consensus_score\"] < -10) & \n",
    "              (df[\"eos7m30_cyp1a2_veith\"] < 0.1)]['input'])\n",
    "print(len(o_kp))"
   ]
  },
  {
   "cell_type": "code",
   "execution_count": 26,
   "id": "ee12ba15",
   "metadata": {},
   "outputs": [
    {
     "data": {
      "text/plain": [
       "753"
      ]
     },
     "execution_count": 26,
     "metadata": {},
     "output_type": "execute_result"
    }
   ],
   "source": [
    "SELECTED = a_kp.union(b_kp).union(c_kp).union(d_kp).union(e_kp).union(f_kp).union(g_kp).union(h_kp).union(i_kp).union(j_kp).union(k_kp).union(l_kp).union(m_kp).union(n_kp).union(o_kp)\n",
    "len(SELECTED)"
   ]
  },
  {
   "cell_type": "code",
   "execution_count": 27,
   "id": "b482c002",
   "metadata": {},
   "outputs": [],
   "source": [
    "random.seed(42)\n",
    "not_selected = [i for i in df['input'] if i not in SELECTED]\n",
    "selected = random.sample(not_selected, 1000 - len(SELECTED))\n",
    "SELECTED = SELECTED.union(set(selected))\n",
    "\n",
    "with open(\"./kpneumoniae_compounds.csv\", \"w\") as out:\n",
    "    out.write(\"\\n\".join(sorted(SELECTED)))"
   ]
  },
  {
   "cell_type": "code",
   "execution_count": 28,
   "id": "f6310366",
   "metadata": {},
   "outputs": [],
   "source": [
    "### ABAUMANNII ###"
   ]
  },
  {
   "cell_type": "code",
   "execution_count": 29,
   "id": "0b63fb54",
   "metadata": {},
   "outputs": [
    {
     "data": {
      "image/png": "[encoded data removed]",
      "text/plain": [
       "<Figure size 640x480 with 1 Axes>"
      ]
     },
     "metadata": {},
     "output_type": "display_data"
    }
   ],
   "source": [
    "import matplotlib.pyplot as plt\n",
    "plt.hist(df[\"eos5dti_0_consensus_score\"], bins=[i for i in range(-20, 25, 1)], ec='k')\n",
    "plt.show()"
   ]
  },
  {
   "cell_type": "code",
   "execution_count": 30,
   "id": "3735e333",
   "metadata": {},
   "outputs": [],
   "source": [
    "# QED"
   ]
  },
  {
   "cell_type": "code",
   "execution_count": 31,
   "id": "3bc5f1aa",
   "metadata": {},
   "outputs": [
    {
     "name": "stdout",
     "output_type": "stream",
     "text": [
      "29\n"
     ]
    }
   ],
   "source": [
    "a_ab = set(df[(df[\"eos5dti_0_consensus_score\"] > 10) & \n",
    "              (df[\"eos7m30_qed\"] > 0.7)]['input'])\n",
    "print(len(a_ab))"
   ]
  },
  {
   "cell_type": "code",
   "execution_count": 32,
   "id": "393c43be",
   "metadata": {},
   "outputs": [
    {
     "name": "stdout",
     "output_type": "stream",
     "text": [
      "81\n"
     ]
    }
   ],
   "source": [
    "b_ab = set(df[(df[\"eos5dti_0_consensus_score\"] > 10) & \n",
    "              (df[\"eos7m30_qed\"] < 0.25)]['input'])\n",
    "print(len(b_ab))"
   ]
  },
  {
   "cell_type": "code",
   "execution_count": 33,
   "id": "03460a02",
   "metadata": {},
   "outputs": [
    {
     "name": "stdout",
     "output_type": "stream",
     "text": [
      "72\n"
     ]
    }
   ],
   "source": [
    "c_ab = set(df[(df[\"eos5dti_0_consensus_score\"] < 10) & \n",
    "              (df[\"eos7m30_qed\"] > 0.93)]['input'])\n",
    "print(len(c_ab))"
   ]
  },
  {
   "cell_type": "code",
   "execution_count": 34,
   "id": "38901a80",
   "metadata": {},
   "outputs": [],
   "source": [
    "# CYTOTOXICITY"
   ]
  },
  {
   "cell_type": "code",
   "execution_count": 35,
   "id": "18874ae7",
   "metadata": {},
   "outputs": [
    {
     "name": "stdout",
     "output_type": "stream",
     "text": [
      "31\n"
     ]
    }
   ],
   "source": [
    "d_ab = set(df[(df[\"eos5dti_0_consensus_score\"] > 10) & \n",
    "              (df['eos42ez_cytotoxicity_hepg2'] < 0.1) & \n",
    "              (df['eos42ez_cytotoxicity_hskmc'] < 0.1) & \n",
    "              (df['eos42ez_cytotoxicity_imr90'] < 0.1)]['input'])\n",
    "print(len(d_ab))"
   ]
  },
  {
   "cell_type": "code",
   "execution_count": 36,
   "id": "afbd8402",
   "metadata": {},
   "outputs": [
    {
     "name": "stdout",
     "output_type": "stream",
     "text": [
      "35\n"
     ]
    }
   ],
   "source": [
    "e_ab = set(df[(df[\"eos5dti_0_consensus_score\"] > 10) & \n",
    "              (df['eos42ez_cytotoxicity_hepg2'] > 0.4) & \n",
    "              (df['eos42ez_cytotoxicity_hskmc'] > 0.4) & \n",
    "              (df['eos42ez_cytotoxicity_imr90'] > 0.4)]['input'])\n",
    "print(len(e_ab))"
   ]
  },
  {
   "cell_type": "code",
   "execution_count": 37,
   "id": "bdbfaae5",
   "metadata": {},
   "outputs": [
    {
     "name": "stdout",
     "output_type": "stream",
     "text": [
      "43\n"
     ]
    }
   ],
   "source": [
    "f_ab = set(df[(df[\"eos5dti_0_consensus_score\"] < 10) & \n",
    "              (df['eos42ez_cytotoxicity_hepg2'] < 0.03) & \n",
    "              (df['eos42ez_cytotoxicity_hskmc'] < 0.03) & \n",
    "              (df['eos42ez_cytotoxicity_imr90'] < 0.03)]['input'])\n",
    "print(len(f_ab))"
   ]
  },
  {
   "cell_type": "code",
   "execution_count": 38,
   "id": "f81b3205",
   "metadata": {},
   "outputs": [],
   "source": [
    "# HERG"
   ]
  },
  {
   "cell_type": "code",
   "execution_count": 39,
   "id": "ed2e7c53",
   "metadata": {},
   "outputs": [
    {
     "name": "stdout",
     "output_type": "stream",
     "text": [
      "100\n"
     ]
    }
   ],
   "source": [
    "g_ab = set(df[(df[\"eos5dti_0_consensus_score\"] > 10) & \n",
    "              (df[\"eos7m30_herg\"] > 0.9)]['input'])\n",
    "print(len(g_ab))"
   ]
  },
  {
   "cell_type": "code",
   "execution_count": 40,
   "id": "c151c812",
   "metadata": {},
   "outputs": [
    {
     "name": "stdout",
     "output_type": "stream",
     "text": [
      "71\n"
     ]
    }
   ],
   "source": [
    "h_ab = set(df[(df[\"eos5dti_0_consensus_score\"] < 10) & \n",
    "              (df[\"eos7m30_herg\"] < 0.03)]['input'])\n",
    "print(len(h_ab))"
   ]
  },
  {
   "cell_type": "code",
   "execution_count": 41,
   "id": "a2309aa5",
   "metadata": {},
   "outputs": [
    {
     "name": "stdout",
     "output_type": "stream",
     "text": [
      "32\n"
     ]
    }
   ],
   "source": [
    "i_ab = set(df[(df[\"eos5dti_0_consensus_score\"] > 10) & \n",
    "              (df[\"eos7m30_herg\"] < 0.3)]['input'])\n",
    "print(len(i_ab))"
   ]
  },
  {
   "cell_type": "code",
   "execution_count": 42,
   "id": "7a2dc938",
   "metadata": {},
   "outputs": [],
   "source": [
    "# BIOAVAILABILITY"
   ]
  },
  {
   "cell_type": "code",
   "execution_count": 43,
   "id": "f59bf8a2",
   "metadata": {},
   "outputs": [
    {
     "name": "stdout",
     "output_type": "stream",
     "text": [
      "20\n"
     ]
    }
   ],
   "source": [
    "j_ab = set(df[(df[\"eos5dti_0_consensus_score\"] > 10) & \n",
    "              (df[\"eos7m30_bioavailability_ma\"] > 0.9)]['input'])\n",
    "print(len(j_ab))"
   ]
  },
  {
   "cell_type": "code",
   "execution_count": 44,
   "id": "58e60941",
   "metadata": {},
   "outputs": [
    {
     "name": "stdout",
     "output_type": "stream",
     "text": [
      "38\n"
     ]
    }
   ],
   "source": [
    "k_ab = set(df[(df[\"eos5dti_0_consensus_score\"] > 10) & \n",
    "              (df[\"eos7m30_bioavailability_ma\"] < 0.5)]['input'])\n",
    "print(len(k_ab))"
   ]
  },
  {
   "cell_type": "code",
   "execution_count": 45,
   "id": "717dc686",
   "metadata": {},
   "outputs": [
    {
     "name": "stdout",
     "output_type": "stream",
     "text": [
      "62\n"
     ]
    }
   ],
   "source": [
    "l_ab = set(df[(df[\"eos5dti_0_consensus_score\"] < 10) & \n",
    "              (df[\"eos7m30_bioavailability_ma\"] > 0.985)]['input'])\n",
    "print(len(l_ab))"
   ]
  },
  {
   "cell_type": "code",
   "execution_count": 46,
   "id": "f2ac7cc9",
   "metadata": {},
   "outputs": [],
   "source": [
    "# VEITH"
   ]
  },
  {
   "cell_type": "code",
   "execution_count": 47,
   "id": "8ececa5f",
   "metadata": {},
   "outputs": [
    {
     "name": "stdout",
     "output_type": "stream",
     "text": [
      "60\n"
     ]
    }
   ],
   "source": [
    "m_ab = set(df[(df[\"eos5dti_0_consensus_score\"] > 15) & \n",
    "              (df[\"eos7m30_cyp1a2_veith\"] < 0.05)]['input'])\n",
    "print(len(m_ab))"
   ]
  },
  {
   "cell_type": "code",
   "execution_count": 48,
   "id": "c0c73f46",
   "metadata": {},
   "outputs": [
    {
     "name": "stdout",
     "output_type": "stream",
     "text": [
      "28\n"
     ]
    }
   ],
   "source": [
    "n_ab = set(df[(df[\"eos5dti_0_consensus_score\"] > 10) & \n",
    "              (df[\"eos7m30_cyp1a2_veith\"] > 0.7)]['input'])\n",
    "print(len(n_ab))"
   ]
  },
  {
   "cell_type": "code",
   "execution_count": 49,
   "id": "9d343ca1",
   "metadata": {},
   "outputs": [
    {
     "name": "stdout",
     "output_type": "stream",
     "text": [
      "5\n"
     ]
    }
   ],
   "source": [
    "o_ab = set(df[(df[\"eos5dti_0_consensus_score\"] < -15) & \n",
    "              (df[\"eos7m30_cyp1a2_veith\"] < 0.1)]['input'])\n",
    "print(len(o_ab))"
   ]
  },
  {
   "cell_type": "code",
   "execution_count": 50,
   "id": "21268c71",
   "metadata": {},
   "outputs": [],
   "source": [
    "# abaumannii external"
   ]
  },
  {
   "cell_type": "code",
   "execution_count": 51,
   "id": "4c7c9b52",
   "metadata": {},
   "outputs": [
    {
     "name": "stdout",
     "output_type": "stream",
     "text": [
      "99\n"
     ]
    }
   ],
   "source": [
    "p_ab = set(df[(df[\"eos5dti_0_consensus_score\"] > 15) & \n",
    "              (df[\"eos3804_abaumannii_inhibition_probability\"] < 0.1)]['input'])\n",
    "print(len(p_ab))"
   ]
  },
  {
   "cell_type": "code",
   "execution_count": 52,
   "id": "956dde56",
   "metadata": {},
   "outputs": [
    {
     "name": "stdout",
     "output_type": "stream",
     "text": [
      "6\n"
     ]
    }
   ],
   "source": [
    "q_ab = set(df[(df[\"eos5dti_0_consensus_score\"] > 5) & \n",
    "              (df[\"eos3804_abaumannii_inhibition_probability\"] > 0.4)]['input'])\n",
    "print(len(q_ab))"
   ]
  },
  {
   "cell_type": "code",
   "execution_count": 53,
   "id": "7a6a95a4",
   "metadata": {},
   "outputs": [
    {
     "data": {
      "text/plain": [
       "532"
      ]
     },
     "execution_count": 53,
     "metadata": {},
     "output_type": "execute_result"
    }
   ],
   "source": [
    "SELECTED = a_ab.union(b_ab).union(c_ab).union(d_ab).union(e_ab).union(f_ab).union(g_ab).union(h_ab).union(i_ab).union(j_ab).union(k_ab).union(l_ab).union(m_ab).union(n_ab).union(o_ab).union(p_ab).union(q_ab)\n",
    "len(SELECTED)"
   ]
  },
  {
   "cell_type": "code",
   "execution_count": 54,
   "id": "ed3af7ab",
   "metadata": {},
   "outputs": [],
   "source": [
    "random.seed(42)\n",
    "not_selected = [i for i in df['input'] if i not in SELECTED]\n",
    "selected = random.sample(not_selected, 1000 - len(SELECTED))\n",
    "SELECTED = SELECTED.union(set(selected))\n",
    "COLORS = ['green', 'blue', 'yellow']\n",
    "\n",
    "for color in COLORS:\n",
    "    with open(f\"./abaumanni_compounds_{color}.csv\", \"w\") as out:\n",
    "        l = sorted(SELECTED)\n",
    "        random.shuffle(l)\n",
    "        out.write(\"\\n\".join(l))"
   ]
  },
  {
   "cell_type": "code",
   "execution_count": 55,
   "id": "1a684011",
   "metadata": {},
   "outputs": [],
   "source": [
    "### SAUREUS ###"
   ]
  },
  {
   "cell_type": "code",
   "execution_count": 56,
   "id": "a74219a2",
   "metadata": {},
   "outputs": [
    {
     "data": {
      "image/png": "[encoded data removed]",
      "text/plain": [
       "<Figure size 640x480 with 1 Axes>"
      ]
     },
     "metadata": {},
     "output_type": "display_data"
    }
   ],
   "source": [
    "import matplotlib.pyplot as plt\n",
    "plt.hist(df[\"eos2m0f_0_consensus_score\"], bins=[i for i in range(-40, 40, 2)], ec='k')\n",
    "plt.show()"
   ]
  },
  {
   "cell_type": "code",
   "execution_count": 57,
   "id": "37c7a035",
   "metadata": {},
   "outputs": [],
   "source": [
    "# QED"
   ]
  },
  {
   "cell_type": "code",
   "execution_count": 58,
   "id": "241ee740",
   "metadata": {},
   "outputs": [
    {
     "name": "stdout",
     "output_type": "stream",
     "text": [
      "86\n"
     ]
    }
   ],
   "source": [
    "a_sa = set(df[(df[\"eos2m0f_0_consensus_score\"] > 15) & \n",
    "              (df[\"eos7m30_qed\"] > 0.7)]['input'])\n",
    "print(len(a_sa))"
   ]
  },
  {
   "cell_type": "code",
   "execution_count": 59,
   "id": "e923cfc8",
   "metadata": {},
   "outputs": [
    {
     "name": "stdout",
     "output_type": "stream",
     "text": [
      "70\n"
     ]
    }
   ],
   "source": [
    "b_sa = set(df[(df[\"eos2m0f_0_consensus_score\"] > 20) & \n",
    "              (df[\"eos7m30_qed\"] < 0.25)]['input'])\n",
    "print(len(b_sa))"
   ]
  },
  {
   "cell_type": "code",
   "execution_count": 60,
   "id": "7f903a98",
   "metadata": {},
   "outputs": [
    {
     "name": "stdout",
     "output_type": "stream",
     "text": [
      "72\n"
     ]
    }
   ],
   "source": [
    "c_sa = set(df[(df[\"eos2m0f_0_consensus_score\"] < 10) & \n",
    "              (df[\"eos7m30_qed\"] > 0.93)]['input'])\n",
    "print(len(c_sa))"
   ]
  },
  {
   "cell_type": "code",
   "execution_count": 61,
   "id": "16c869f0",
   "metadata": {},
   "outputs": [],
   "source": [
    "# CYTOTOXICITY"
   ]
  },
  {
   "cell_type": "code",
   "execution_count": 62,
   "id": "9d05f429",
   "metadata": {},
   "outputs": [
    {
     "name": "stdout",
     "output_type": "stream",
     "text": [
      "90\n"
     ]
    }
   ],
   "source": [
    "d_sa = set(df[(df[\"eos2m0f_0_consensus_score\"] > 15) & \n",
    "              (df['eos42ez_cytotoxicity_hepg2'] < 0.1) & \n",
    "              (df['eos42ez_cytotoxicity_hskmc'] < 0.1) & \n",
    "              (df['eos42ez_cytotoxicity_imr90'] < 0.1)]['input'])\n",
    "print(len(d_sa))"
   ]
  },
  {
   "cell_type": "code",
   "execution_count": 63,
   "id": "22418e33",
   "metadata": {},
   "outputs": [
    {
     "name": "stdout",
     "output_type": "stream",
     "text": [
      "92\n"
     ]
    }
   ],
   "source": [
    "e_sa = set(df[(df[\"eos2m0f_0_consensus_score\"] > 15) & \n",
    "              (df['eos42ez_cytotoxicity_hepg2'] > 0.4) & \n",
    "              (df['eos42ez_cytotoxicity_hskmc'] > 0.4) & \n",
    "              (df['eos42ez_cytotoxicity_imr90'] > 0.4)]['input'])\n",
    "print(len(e_sa))"
   ]
  },
  {
   "cell_type": "code",
   "execution_count": 64,
   "id": "ab0c939e",
   "metadata": {},
   "outputs": [
    {
     "name": "stdout",
     "output_type": "stream",
     "text": [
      "36\n"
     ]
    }
   ],
   "source": [
    "f_sa = set(df[(df[\"eos2m0f_0_consensus_score\"] < 10) & \n",
    "              (df['eos42ez_cytotoxicity_hepg2'] < 0.03) & \n",
    "              (df['eos42ez_cytotoxicity_hskmc'] < 0.03) & \n",
    "              (df['eos42ez_cytotoxicity_imr90'] < 0.03)]['input'])\n",
    "print(len(f_sa))"
   ]
  },
  {
   "cell_type": "code",
   "execution_count": 65,
   "id": "b3bc8e69",
   "metadata": {},
   "outputs": [],
   "source": [
    "# HERG"
   ]
  },
  {
   "cell_type": "code",
   "execution_count": 66,
   "id": "52ce6058",
   "metadata": {},
   "outputs": [
    {
     "name": "stdout",
     "output_type": "stream",
     "text": [
      "64\n"
     ]
    }
   ],
   "source": [
    "g_sa = set(df[(df[\"eos2m0f_0_consensus_score\"] > 15) & \n",
    "              (df[\"eos7m30_herg\"] > 0.95)]['input'])\n",
    "print(len(g_sa))"
   ]
  },
  {
   "cell_type": "code",
   "execution_count": 67,
   "id": "863f9cf2",
   "metadata": {},
   "outputs": [
    {
     "name": "stdout",
     "output_type": "stream",
     "text": [
      "65\n"
     ]
    }
   ],
   "source": [
    "h_sa = set(df[(df[\"eos2m0f_0_consensus_score\"] < 10) & \n",
    "              (df[\"eos7m30_herg\"] < 0.03)]['input'])\n",
    "print(len(h_sa))"
   ]
  },
  {
   "cell_type": "code",
   "execution_count": 68,
   "id": "871a394d",
   "metadata": {},
   "outputs": [
    {
     "name": "stdout",
     "output_type": "stream",
     "text": [
      "78\n"
     ]
    }
   ],
   "source": [
    "i_sa = set(df[(df[\"eos2m0f_0_consensus_score\"] > 10) & \n",
    "              (df[\"eos7m30_herg\"] < 0.3)]['input'])\n",
    "print(len(i_sa))"
   ]
  },
  {
   "cell_type": "code",
   "execution_count": 69,
   "id": "578052f4",
   "metadata": {},
   "outputs": [],
   "source": [
    "# BIOAVAILABILITY"
   ]
  },
  {
   "cell_type": "code",
   "execution_count": 70,
   "id": "611cb480",
   "metadata": {},
   "outputs": [
    {
     "name": "stdout",
     "output_type": "stream",
     "text": [
      "50\n"
     ]
    }
   ],
   "source": [
    "j_sa = set(df[(df[\"eos2m0f_0_consensus_score\"] > 15) & \n",
    "              (df[\"eos7m30_bioavailability_ma\"] > 0.93)]['input'])\n",
    "print(len(j_sa))"
   ]
  },
  {
   "cell_type": "code",
   "execution_count": 71,
   "id": "3c73d836",
   "metadata": {},
   "outputs": [
    {
     "name": "stdout",
     "output_type": "stream",
     "text": [
      "71\n"
     ]
    }
   ],
   "source": [
    "k_sa = set(df[(df[\"eos2m0f_0_consensus_score\"] > 15) & \n",
    "              (df[\"eos7m30_bioavailability_ma\"] < 0.5)]['input'])\n",
    "print(len(k_sa))"
   ]
  },
  {
   "cell_type": "code",
   "execution_count": 72,
   "id": "04cb7756",
   "metadata": {},
   "outputs": [
    {
     "name": "stdout",
     "output_type": "stream",
     "text": [
      "62\n"
     ]
    }
   ],
   "source": [
    "l_sa = set(df[(df[\"eos2m0f_0_consensus_score\"] < 10) & \n",
    "              (df[\"eos7m30_bioavailability_ma\"] > 0.985)]['input'])\n",
    "print(len(l_sa))"
   ]
  },
  {
   "cell_type": "code",
   "execution_count": 73,
   "id": "fd6477c1",
   "metadata": {},
   "outputs": [],
   "source": [
    "# VEITH"
   ]
  },
  {
   "cell_type": "code",
   "execution_count": 74,
   "id": "67885883",
   "metadata": {},
   "outputs": [
    {
     "name": "stdout",
     "output_type": "stream",
     "text": [
      "94\n"
     ]
    }
   ],
   "source": [
    "m_sa = set(df[(df[\"eos2m0f_0_consensus_score\"] > 18) & \n",
    "              (df[\"eos7m30_cyp1a2_veith\"] < 0.02)]['input'])\n",
    "print(len(m_sa))"
   ]
  },
  {
   "cell_type": "code",
   "execution_count": 75,
   "id": "9f99aca4",
   "metadata": {},
   "outputs": [
    {
     "name": "stdout",
     "output_type": "stream",
     "text": [
      "54\n"
     ]
    }
   ],
   "source": [
    "n_sa = set(df[(df[\"eos2m0f_0_consensus_score\"] > 15) & \n",
    "              (df[\"eos7m30_cyp1a2_veith\"] > 0.8)]['input'])\n",
    "print(len(n_sa))"
   ]
  },
  {
   "cell_type": "code",
   "execution_count": 76,
   "id": "518505fc",
   "metadata": {},
   "outputs": [
    {
     "name": "stdout",
     "output_type": "stream",
     "text": [
      "28\n"
     ]
    }
   ],
   "source": [
    "o_sa = set(df[(df[\"eos2m0f_0_consensus_score\"] < 15) & \n",
    "              (df[\"eos7m30_cyp1a2_veith\"] < 0.001)]['input'])\n",
    "print(len(o_sa))"
   ]
  },
  {
   "cell_type": "code",
   "execution_count": 77,
   "id": "6b50dbe4",
   "metadata": {},
   "outputs": [],
   "source": [
    "# saureus external"
   ]
  },
  {
   "cell_type": "code",
   "execution_count": 78,
   "id": "1a5674da",
   "metadata": {},
   "outputs": [
    {
     "name": "stdout",
     "output_type": "stream",
     "text": [
      "73\n"
     ]
    }
   ],
   "source": [
    "p_sa = set(df[(df[\"eos2m0f_0_consensus_score\"] > 23) & \n",
    "              (df[\"eos18ie_saureus_inhibition_probability\"] < 0.01)]['input'])\n",
    "print(len(p_sa))"
   ]
  },
  {
   "cell_type": "code",
   "execution_count": 79,
   "id": "957eff66",
   "metadata": {},
   "outputs": [
    {
     "name": "stdout",
     "output_type": "stream",
     "text": [
      "4\n"
     ]
    }
   ],
   "source": [
    "q_sa = set(df[(df[\"eos2m0f_0_consensus_score\"] > 5) & \n",
    "              (df[\"eos18ie_saureus_inhibition_probability\"] > 0.3)]['input'])\n",
    "print(len(q_sa))"
   ]
  },
  {
   "cell_type": "code",
   "execution_count": 80,
   "id": "e51e4bd3",
   "metadata": {},
   "outputs": [
    {
     "data": {
      "text/plain": [
       "805"
      ]
     },
     "execution_count": 80,
     "metadata": {},
     "output_type": "execute_result"
    }
   ],
   "source": [
    "SELECTED = a_sa.union(b_sa).union(c_sa).union(d_sa).union(e_sa).union(f_sa).union(g_sa).union(h_sa).union(i_sa).union(j_sa).union(k_sa).union(l_sa).union(m_sa).union(n_sa).union(o_sa).union(p_sa).union(q_sa)\n",
    "len(SELECTED)"
   ]
  },
  {
   "cell_type": "code",
   "execution_count": 81,
   "id": "8bea06b1",
   "metadata": {},
   "outputs": [],
   "source": [
    "random.seed(42)\n",
    "not_selected = [i for i in df['input'] if i not in SELECTED]\n",
    "selected = random.sample(not_selected, 1000 - len(SELECTED))\n",
    "SELECTED = SELECTED.union(set(selected))\n",
    "COLORS = ['orange', 'pink']\n",
    "\n",
    "for color in COLORS:\n",
    "    with open(f\"./saureus_compounds_{color}.csv\", \"w\") as out:\n",
    "        l = sorted(SELECTED)\n",
    "        random.shuffle(l)\n",
    "        out.write(\"\\n\".join(l))"
   ]
  },
  {
   "cell_type": "code",
   "execution_count": null,
   "id": "95e4b5e4",
   "metadata": {},
   "outputs": [],
   "source": []
  },
  {
   "cell_type": "code",
   "execution_count": null,
   "id": "7583f2ee",
   "metadata": {},
   "outputs": [],
   "source": [
    "\n"
   ]
  }
 ],
 "metadata": {
  "kernelspec": {
   "display_name": "ai2050-h3d",
   "language": "python",
   "name": "python3"
  },
  "language_info": {
   "codemirror_mode": {
    "name": "ipython",
    "version": 3
   },
   "file_extension": ".py",
   "mimetype": "text/x-python",
   "name": "python",
   "nbconvert_exporter": "python",
   "pygments_lexer": "ipython3",
   "version": "3.10.18"
  }
 },
 "nbformat": 4,
 "nbformat_minor": 5
}
