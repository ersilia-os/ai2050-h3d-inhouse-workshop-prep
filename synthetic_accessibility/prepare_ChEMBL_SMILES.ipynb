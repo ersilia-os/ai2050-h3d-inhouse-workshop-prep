{
 "cells": [
  {
   "cell_type": "code",
   "execution_count": 1,
   "id": "e90e9245",
   "metadata": {},
   "outputs": [],
   "source": [
    "import pandas as pd\n",
    "\n",
    "ChEMBL_data = pd.read_csv(\"./ChEMBL_data.tsv\", sep='\\t')\n",
    "ChEMBL_data = ChEMBL_data[ChEMBL_data['Type'] == 'Small molecule'].reset_index(drop=True)\n",
    "ChEMBL_data = ChEMBL_data[ChEMBL_data['Smiles'].isna() == False].reset_index(drop=True)"
   ]
  },
  {
   "cell_type": "code",
   "execution_count": 2,
   "id": "77624877",
   "metadata": {},
   "outputs": [],
   "source": [
    "# Get SMILES\n",
    "SMILES_ChEMBL = sorted(ChEMBL_data['Smiles'])"
   ]
  },
  {
   "cell_type": "code",
   "execution_count": 3,
   "id": "1d795d0f",
   "metadata": {},
   "outputs": [],
   "source": [
    "import random\n",
    "random.seed(42)\n",
    "sample = random.sample(SMILES_ChEMBL, 10000)"
   ]
  },
  {
   "cell_type": "code",
   "execution_count": 4,
   "id": "606416ff",
   "metadata": {},
   "outputs": [],
   "source": [
    "with open(\"./SMILES_ChEMBL_ALL.csv\", \"w\") as f:\n",
    "    f.write(\"smiles\\n\")\n",
    "    f.write(\"\\n\".join(SMILES_ChEMBL))"
   ]
  },
  {
   "cell_type": "code",
   "execution_count": 5,
   "id": "5728cb89",
   "metadata": {},
   "outputs": [],
   "source": [
    "with open(\"./SMILES_ChEMBL_10000.csv\", \"w\") as f:\n",
    "    f.write(\"smiles\\n\")\n",
    "    f.write(\"\\n\".join(sample))"
   ]
  },
  {
   "cell_type": "code",
   "execution_count": null,
   "id": "ee679035",
   "metadata": {},
   "outputs": [],
   "source": []
  }
 ],
 "metadata": {
  "kernelspec": {
   "display_name": "ai2050-h3d",
   "language": "python",
   "name": "python3"
  },
  "language_info": {
   "codemirror_mode": {
    "name": "ipython",
    "version": 3
   },
   "file_extension": ".py",
   "mimetype": "text/x-python",
   "name": "python",
   "nbconvert_exporter": "python",
   "pygments_lexer": "ipython3",
   "version": "3.10.18"
  }
 },
 "nbformat": 4,
 "nbformat_minor": 5
}
